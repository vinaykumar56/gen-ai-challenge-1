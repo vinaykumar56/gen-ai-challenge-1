{
 "cells": [
  {
   "cell_type": "code",
   "execution_count": null,
   "id": "079d631a",
   "metadata": {
    "vscode": {
     "languageId": "plaintext"
    }
   },
   "outputs": [],
   "source": [
    "from langchain_docling import DoclingLoader\n",
    "from langchain_community.document_loaders import DirectoryLoader\n",
    "from pprint import pprint\n",
    "\n",
    "## read all pptx files from a directory and its sub-directories\n",
    "File_Path = './data'\n",
    "dir_loader = DirectoryLoader(File_Path, glob=\"**/*.pptx\", loader_cls=DoclingLoader,\n",
    " recursive=True, show_progress=False)\n",
    "\n",
    "document = dir_loader.load()\n",
    "\n",
    "pprint(document)\n",
    "\n",
    "print(len(document))\n"
   ]
  }
 ],
 "metadata": {
  "language_info": {
   "name": "python"
  }
 },
 "nbformat": 4,
 "nbformat_minor": 5
}
